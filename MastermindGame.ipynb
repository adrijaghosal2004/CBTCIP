{
 "cells": [
  {
   "cell_type": "code",
   "execution_count": null,
   "id": "79017d9e",
   "metadata": {},
   "outputs": [],
   "source": [
    "from getpass import getpass\n",
    "def setValue(player):\n",
    "    while True:\n",
    "        number = getpass(f\"Player {player}, set your 4 digit number : \")\n",
    "        print()\n",
    "        if number.isdigit() and len(number) == 4:\n",
    "            return number\n",
    "        else:\n",
    "            print(\"Invalid !! Please enter a 4-digit number.\")"
   ]
  },
  {
   "cell_type": "code",
   "execution_count": null,
   "id": "2d44cb59",
   "metadata": {},
   "outputs": [],
   "source": [
    "def hint(number, guess):\n",
    "    hint = ''\n",
    "    for i in range(4):\n",
    "        if number[i] == guess[i]:\n",
    "            hint += number[i]\n",
    "        else:\n",
    "            hint += '_'\n",
    "    return hint"
   ]
  },
  {
   "cell_type": "code",
   "execution_count": null,
   "id": "b76661e5",
   "metadata": {},
   "outputs": [],
   "source": [
    "def guess(number, player):\n",
    "    attempts = 0\n",
    "    while True:\n",
    "        attempts += 1\n",
    "        print(f\"Attempt {attempts}:\")\n",
    "        guess = input(f\"Player {player}, enter your guess : \")\n",
    "        if guess.isdigit() and len(guess) == 4:\n",
    "            if guess == number:\n",
    "                print(\"\\nCongratulations you guessed the right number!!\")\n",
    "                return attempts\n",
    "            else:\n",
    "                hints=hint(number, guess)\n",
    "                print(\"\\nHint : \",hints)\n",
    "        else:\n",
    "            print(\"Invalid input. Please enter a 4-digit number.\")"
   ]
  },
  {
   "cell_type": "code",
   "execution_count": null,
   "id": "ae4c8515",
   "metadata": {},
   "outputs": [],
   "source": [
    "def game(player1,player2):\n",
    "    \n",
    "    while True: \n",
    "        val1=setValue(player1)\n",
    "        player2_count=guess(val1,player2)\n",
    "        print(player2_count)\n",
    "        if player2_count==1:\n",
    "            print(f\"\\n{player2} is MASTERMIND\")\n",
    "            break\n",
    "            \n",
    "        val2=setValue(player2)\n",
    "        player1_count=guess(val2,player1)\n",
    "        if player1_count < player2_count:\n",
    "            print(f\"\\n{player1} is MASTERMIND\")\n",
    "            break\n",
    "        else:\n",
    "            print(f\"\\n{player2} Won\")\n",
    "            break"
   ]
  },
  {
   "cell_type": "code",
   "execution_count": null,
   "id": "e0924181",
   "metadata": {},
   "outputs": [],
   "source": [
    "print(\" \\t\\t\\tWelcome to Mastermind Game \")\n",
    "print(\"\\t\\t\\t---------------------------\")\n",
    "print()\n",
    "player1=input(\"Enter your name : \")\n",
    "player2=input(\"Enter your name : \")\n",
    "game(player1,player2)\n",
    "print(f\"Thank you {player1} and {player2} for playing\")"
   ]
  },
  {
   "cell_type": "code",
   "execution_count": null,
   "id": "6898c328",
   "metadata": {},
   "outputs": [],
   "source": []
  }
 ],
 "metadata": {
  "kernelspec": {
   "display_name": "Python 3 (ipykernel)",
   "language": "python",
   "name": "python3"
  },
  "language_info": {
   "codemirror_mode": {
    "name": "ipython",
    "version": 3
   },
   "file_extension": ".py",
   "mimetype": "text/x-python",
   "name": "python",
   "nbconvert_exporter": "python",
   "pygments_lexer": "ipython3",
   "version": "3.11.5"
  }
 },
 "nbformat": 4,
 "nbformat_minor": 5
}
