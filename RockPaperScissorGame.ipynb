{
 "cells": [
  {
   "cell_type": "code",
   "execution_count": null,
   "id": "c3d86b9a",
   "metadata": {},
   "outputs": [],
   "source": [
    "import random"
   ]
  },
  {
   "cell_type": "code",
   "execution_count": null,
   "id": "21f53a2e",
   "metadata": {},
   "outputs": [],
   "source": [
    "def winner(player_choice,comp_choice):\n",
    "    if player_choice==comp_choice:\n",
    "        print (\"Its a tie!!\")\n",
    "    elif ((player_choice==\"rock\" and comp_choice==\"scissor\") \n",
    "        or (player_choice==\"paper\" and comp_choice==\"rock\") \n",
    "        or (player_choice==\"scissor\" and comp_choice==\"paper\")):\n",
    "            print(\"Congratulations You Won !!!!!\")\n",
    "    else:\n",
    "        print(\"Oops you lost!!!\\nComputer Won\")"
   ]
  },
  {
   "cell_type": "code",
   "execution_count": null,
   "id": "7770ca68",
   "metadata": {},
   "outputs": [],
   "source": [
    "def play():\n",
    "    options=[\"rock\",\"paper\",\"scissor\"]\n",
    "    comp_choice=random.choice(options)\n",
    "    player_choice=input(\"\\n\\nEnter your choice (Rock,Paper,Scissor) : \").lower()\n",
    "    if player_choice not in options:\n",
    "        print(\"Please choose a correct option\")\n",
    "        play()\n",
    "    else:\n",
    "        print(\"\\nYour chose :\",player_choice)\n",
    "        print(\"Computer chose :\",comp_choice)\n",
    "        print()\n",
    "        winner(player_choice,comp_choice)"
   ]
  },
  {
   "cell_type": "code",
   "execution_count": null,
   "id": "1d2c88aa",
   "metadata": {},
   "outputs": [],
   "source": [
    "print(\" \\t\\t\\tWelcome to Rock Paper Scissor Game \")\n",
    "print(\"\\t\\t\\t---------------------------------------\")\n",
    "print()\n",
    "start=input(\"Want to start the game ? (yes,no) : \").lower()\n",
    "if (start!=\"no\"):\n",
    "    while( start!=\"no\"):\n",
    "        play()\n",
    "        start=input(\"\\nDo you want to play again ? (yes/no) : \").lower()\n",
    "\n",
    "    print(\"\\nThank you for playing the game :) \")"
   ]
  },
  {
   "cell_type": "code",
   "execution_count": null,
   "id": "a260e197",
   "metadata": {},
   "outputs": [],
   "source": []
  }
 ],
 "metadata": {
  "kernelspec": {
   "display_name": "Python 3 (ipykernel)",
   "language": "python",
   "name": "python3"
  },
  "language_info": {
   "codemirror_mode": {
    "name": "ipython",
    "version": 3
   },
   "file_extension": ".py",
   "mimetype": "text/x-python",
   "name": "python",
   "nbconvert_exporter": "python",
   "pygments_lexer": "ipython3",
   "version": "3.11.5"
  }
 },
 "nbformat": 4,
 "nbformat_minor": 5
}
